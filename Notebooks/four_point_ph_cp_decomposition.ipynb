{
 "cells": [
  {
   "cell_type": "code",
   "execution_count": 1,
   "metadata": {},
   "outputs": [],
   "source": [
    "from irbasis_util.four_point_ph_view import *\n",
    "from irbasis_util.internal import *\n",
    "from irbasis_util.regression import *\n",
    "from irbasis_util.tensor_regression import *\n",
    "import matplotlib.pyplot as plt\n",
    "import numpy as np"
   ]
  },
  {
   "cell_type": "code",
   "execution_count": 2,
   "metadata": {},
   "outputs": [],
   "source": [
    "#padding on the y axis between label and axis\n",
    "plt.rcParams['ytick.major.pad']='10'\n",
    "\n",
    "dpi_out = 400\n",
    "fig_width = 3.39\n",
    "golden_mean = (np.sqrt(5)-1.0)/2.0    # Aesthetic ratio\n",
    "fig_height = fig_width*golden_mean # height in inches\n",
    "MAX_HEIGHT_INCHES = 8.0\n",
    "if fig_height > MAX_HEIGHT_INCHES:\n",
    "    print(\"WARNING: fig_height too large:\" + fig_height + \n",
    "          \"so will reduce to\" + MAX_HEIGHT_INCHES + \"inches.\")\n",
    "    fig_height = MAX_HEIGHT_INCHES\n",
    "#fig, ax = plt.subplots(figsize = (fig_width, fig_height), frameon=True)\n",
    "small_tick_size = 8\n",
    "small_label_size = 8"
   ]
  },
  {
   "cell_type": "code",
   "execution_count": 3,
   "metadata": {},
   "outputs": [],
   "source": [
    "# Implementation of Rohringer et al. () 2012)\n",
    "def _delta(i, j):\n",
    "    if i==j:\n",
    "        return 1\n",
    "    else:\n",
    "        return 0\n",
    "\n",
    "def _F_ph(U, beta, n, np, m):\n",
    "    nu = (2 * n + 1) * numpy.pi / beta\n",
    "    nu_p = (2 * np + 1) * numpy.pi / beta\n",
    "    omega = 2 * m * numpy.pi / beta\n",
    "    r1 = nu + omega\n",
    "    r2 = nu_p + omega\n",
    "    tmp = 1. / (nu * r1 * r2 * nu_p)\n",
    "    Fuu = (-0.25 * beta * (U**2) * (_delta(n,np) - _delta(m,0)) *\n",
    "               (1 + 0.25 * (U / nu)**2) * (1 + 0.25 * (U / r2)**2))\n",
    "    t1 = 0.125 * (U**3) * (nu**2 + r1**2 + r2**2 + nu_p**2) * tmp\n",
    "    t2 = (3.0 / 16.0) * (U**5) * tmp\n",
    "    t3 = (beta * 0.25 * (U**2) *\n",
    "              (1 / (1 + numpy.exp(0.5 * beta * U)))\n",
    "              * (2 * _delta(nu, -nu_p - m) + _delta(m, 0)) *\n",
    "              (1 + 0.25 * (U / r1)**2) * (1 + 0.25 * (U / r2)**2))\n",
    "    t4 = (-beta * 0.25 * (U**2) *\n",
    "              (1 / (1 + numpy.exp(-0.5 * beta * U)))\n",
    "              * (2 * _delta(nu, nu_p) + _delta(m, 0)) *\n",
    "              (1 + 0.25 * (U / nu)**2) * (1 + 0.25 * (U / r2)**2))\n",
    "    Fud = -U + t1 + t2 + t3 + t4\n",
    "    return Fuu, Fud\n",
    "\n",
    "def _G2_conn_ph(U, beta, n, np, m):\n",
    "    Fuu, Fud = _F_ph(U, beta, n, np, m)\n",
    "    nu = (2 * n + 1) * numpy.pi / beta\n",
    "    nu_p = (2 * np + 1) * numpy.pi / beta\n",
    "    omega = 2 * m * numpy.pi / beta\n",
    "    hU = 0.5 * U\n",
    "    leggs_1 = nu * (nu + omega) * nu_p * (nu_p + omega)\n",
    "    leggs_2 = ((hU**2 + nu**2) * (hU**2 + nu_p**2) *\n",
    "                   (hU**2 + (nu + omega)**2) * (hU**2 + (nu_p + omega)**2))\n",
    "    leggs = leggs_1 / leggs_2\n",
    "    return (leggs * Fuu + leggs * Fud)"
   ]
  },
  {
   "cell_type": "code",
   "execution_count": 44,
   "metadata": {},
   "outputs": [],
   "source": [
    "def elbow_method(alphas, squared_errors):\n",
    "    \"\"\"\n",
    "    \n",
    "    Parameters\n",
    "    ----------\n",
    "    alphas    regularization parameters in ascending order\n",
    "    squared_errors  corresponding squared_errors\n",
    "\n",
    "    Returns index of optimal value of alpha in alphas\n",
    "    -------\n",
    "\n",
    "    \"\"\"\n",
    "    x = numpy.log(alphas)\n",
    "    y = numpy.log(squared_errors)\n",
    "    \n",
    "    a = (y[-1] - y[0])/(x[-1] - x[0])\n",
    "    y -= a * (x - x[0]) + y[0]\n",
    "    \n",
    "    r = numpy.argmin(y)\n",
    "    if isinstance(r, numpy.int64):\n",
    "        return r\n",
    "    else:\n",
    "        return r[0]\n",
    "\n",
    "# Regression with multiple values of alpha\n",
    "def kruskal_complex_alphas(tensors_A, y, alphas, rank):\n",
    "    \"\"\"\n",
    "    \n",
    "    Parameters\n",
    "    ----------\n",
    "    A\n",
    "    y\n",
    "    alphas  regularization parameters in ascending order\n",
    "\n",
    "    Returns\n",
    "    -------\n",
    "    \n",
    "     Nw, Nr, freq_dim, linear_dim, tensors_A, y, alpha, D):\n",
    "\n",
    "    \"\"\"\n",
    "    coeffs_alpha = []\n",
    "    squared_errors_alpha = []\n",
    "    Nw, Nr, linear_dim = tensors_A[0].shape\n",
    "    print(Nw, Nr, linear_dim)\n",
    "    for alpha in alphas:\n",
    "        #print(tensors_A)\n",
    "        #print(y)\n",
    "        model = OvercompleteGFModel(Nw, Nr, 2, linear_dim, tensors_A, y, alpha, rank)\n",
    "        optimize(model, 1000, learning_rate = 0.1, tol_rmse = 1e-8)\n",
    "        coeffs = model.full_tensor_x().numpy()\n",
    "        coeffs_alpha.append(coeffs)\n",
    "        e = model.mse().numpy()\n",
    "        print(\"alpha = \", alpha, e)\n",
    "        squared_errors_alpha.append(e)\n",
    "    \n",
    "    squared_errors_alpha = numpy.array(squared_errors_alpha)\n",
    "        \n",
    "    # Choose optimal alpha using Elbow method \n",
    "    opt_idx = elbow_method(alphas, squared_errors_alpha)\n",
    "    \n",
    "    return coeffs_alpha, squared_errors_alpha, opt_idx"
   ]
  },
  {
   "cell_type": "code",
   "execution_count": 34,
   "metadata": {},
   "outputs": [],
   "source": [
    "boson_freq = 10\n",
    "Lambda = 100.0\n",
    "beta = 5.0\n",
    "U = 2.0\n",
    "wmax = Lambda / beta\n",
    "rank = 10\n",
    "\n",
    "numpy.random.seed(100)\n",
    "#noise = 0.0012\n",
    "# 2% error\n",
    "noise = 1e-3"
   ]
  },
  {
   "cell_type": "code",
   "execution_count": 35,
   "metadata": {},
   "outputs": [
    {
     "name": "stdout",
     "output_type": "stream",
     "text": [
      "Nl 19\n"
     ]
    }
   ],
   "source": [
    "#alpha = 1e-15\n",
    "augmented = True\n",
    "phb = FourPointPHView(boson_freq, Lambda, beta, 1e-5, augmented)\n",
    "Nl = phb.Nl\n",
    "whichl = Nl - 1\n",
    "print(\"Nl\", Nl)\n",
    "# build the sampling frequency structure\n",
    "sp = phb.sampling_points_matsubara(whichl)\n",
    "#print(S.shape)\n",
    "n_sp = len(sp)"
   ]
  },
  {
   "cell_type": "code",
   "execution_count": 36,
   "metadata": {},
   "outputs": [
    {
     "name": "stdout",
     "output_type": "stream",
     "text": [
      "adding noise\n"
     ]
    }
   ],
   "source": [
    "# prj: [(n_sp, 3, 2, 2, Nl), (n_sp, 3, 2, 2, Nl)]\n",
    "# S: [(3, 2, 2, Nl), (3, 2, 2, Nl)]\n",
    "# prj = S * prj\n",
    "def construct_prj(sp):\n",
    "    n_sp = len(sp)\n",
    "    prj = phb.projector_to_matsubara_vec(sp, decomposed_form=True)\n",
    "    S = phb.normalized_S(decomposed_form=True)\n",
    "    for i in range(2):\n",
    "        prj[i] *= S[i][None, :, :, :, :]\n",
    "        prj[i] = prj[i].reshape((n_sp, 12, Nl))\n",
    "    return prj\n",
    "prj = construct_prj(sp)\n",
    "\n",
    "# Build the check frequency structure\n",
    "n1n2_check = []\n",
    "niw = 100\n",
    "niw_hf = 10000\n",
    "wide_niw_check = numpy.hstack((range(-niw_hf, -niw, 500), range(-niw, niw, 10), range(niw, niw_hf, 500)))\n",
    "for i, j in product(wide_niw_check, repeat=2):\n",
    "    n1n2_check.append((i, j))\n",
    "prj_check = construct_prj(n1n2_check)\n",
    "\n",
    "numpy.random.seed(100)\n",
    "Giwn = numpy.array([_G2_conn_ph(U, beta, n1n2[0], n1n2[1], boson_freq) for n1n2 in sp])\n",
    "print (\"adding noise\")\n",
    "noise_iwn = numpy.random.normal(loc=0.0, scale=noise, size=(len(sp)))\n",
    "Giwn = noise_iwn + Giwn\n",
    "#print(Giwn.imag)"
   ]
  },
  {
   "cell_type": "code",
   "execution_count": 45,
   "metadata": {},
   "outputs": [
    {
     "name": "stdout",
     "output_type": "stream",
     "text": [
      "2736 12 19\n",
      "0 5.524439979215948 3.423083929078531 1.0\n",
      "20 2.37737707688258e-05 7.415627953608697e-06 100.0\n",
      "40 8.260140218197244e-06 6.147997423178915e-06 100.0\n",
      "60 6.819638220147103e-06 5.364964129862096e-06 100.0\n",
      "80 6.023336344792422e-06 4.559077572179792e-06 100.0\n",
      "100 5.3710763776778435e-06 3.899619920821631e-06 100.0\n",
      "120 4.842654379316236e-06 3.414848942133752e-06 1000.0\n",
      "140 4.391849874004898e-06 3.055159873207778e-06 100.0\n",
      "160 4.04656738606247e-06 2.781290143039494e-06 100.0\n",
      "180 3.7702896378920724e-06 2.549027426165628e-06 100.0\n",
      "200 3.5284867985013477e-06 2.395193421955899e-06 100.0\n",
      "220 3.341081453837881e-06 2.2739522845998813e-06 1000.0\n",
      "240 3.1699362505203255e-06 2.168645634316481e-06 100.0\n",
      "260 3.0348141002246484e-06 2.0783274449206864e-06 1000.0\n",
      "280 2.9095306702700175e-06 1.995515571443227e-06 100.0\n",
      "300 2.806884600183464e-06 1.9333901066891234e-06 1000.0\n",
      "320 2.715392069127131e-06 1.8766975521128171e-06 100.0\n",
      "340 2.6312701462990607e-06 1.825202197542247e-06 100.0\n",
      "360 2.5586458572442015e-06 1.7812287995969174e-06 100.0\n",
      "380 2.493955158242661e-06 1.74223494721268e-06 1000.0\n",
      "400 2.431031011961092e-06 1.7048932163214587e-06 100.0\n",
      "420 2.3765058803341547e-06 1.671971572153934e-06 100.0\n",
      "440 2.327443365276881e-06 1.6425600982920818e-06 1000.0\n",
      "460 2.2789014650660957e-06 1.6134434524473962e-06 100.0\n",
      "480 2.2365911177087745e-06 1.5885746893630814e-06 1000.0\n",
      "500 2.1970581859446636e-06 1.5653097471589465e-06 100.0\n",
      "520 2.159136162941339e-06 1.5427951214964622e-06 100.0\n",
      "540 2.1255378140535104e-06 1.5230746966618315e-06 1000.0\n",
      "560 2.0924370956038088e-06 1.5043918131999785e-06 100.0\n",
      "580 2.062492946116275e-06 1.4868400319831987e-06 100.0\n",
      "600 2.034649488757112e-06 1.4692220215806436e-06 100.0\n",
      "620 2.0072687925103608e-06 1.4537646064157378e-06 100.0\n",
      "640 1.9828918303729676e-06 1.44001193445315e-06 1000.0\n",
      "660 1.958741157803279e-06 1.4278635339849393e-06 100.0\n",
      "680 1.936542480070608e-06 1.4146276445921803e-06 100.0\n",
      "700 1.9160899707441e-06 1.4026575454486227e-06 1000.0\n",
      "720 1.8954144029417548e-06 1.389378808342528e-06 100.0\n",
      "740 1.8766370499900021e-06 1.3792945758981037e-06 100.0\n",
      "760 1.8591413992677014e-06 1.3697358201766484e-06 1000.0\n",
      "780 1.8412952404842508e-06 1.3610570864770794e-06 100.0\n",
      "800 1.8251189284211329e-06 1.3515473647344946e-06 100.0\n",
      "820 1.8098893292993124e-06 1.3411365183768923e-06 100.0\n",
      "840 1.7943546627772112e-06 1.3332052336885387e-06 100.0\n",
      "860 1.7803042623568121e-06 1.3258190720675024e-06 1000.0\n",
      "880 1.7666391519959936e-06 1.3199012728118133e-06 100.0\n",
      "900 1.7532416422615996e-06 1.3119433158105923e-06 100.0\n",
      "920 1.7409583221393729e-06 1.3049434972753851e-06 1000.0\n",
      "940 1.7285571504221537e-06 1.2972009911225993e-06 100.0\n",
      "960 1.7169590635579604e-06 1.291323382311435e-06 100.0\n",
      "980 1.7061246735276112e-06 1.2869747638472798e-06 100.0\n",
      "alpha =  0.1 1.280282443531684e-06\n",
      "CPU times: user 11min 46s, sys: 1min 36s, total: 13min 23s\n",
      "Wall time: 4min 30s\n"
     ]
    },
    {
     "name": "stderr",
     "output_type": "stream",
     "text": [
      "/usr/local/var/pyenv/versions/3.6.5/Python.framework/Versions/3.6/lib/python3.6/site-packages/ipykernel_launcher.py:16: RuntimeWarning: invalid value encountered in double_scalars\n",
      "  app.launch_new_instance()\n"
     ]
    }
   ],
   "source": [
    "#alphas = [1e-10, 1e-9, 1e-8, 1e-7, 1e-6, 1e-5, 1e-4, 1e-3, 1e-2, 1e-1, 1]\n",
    "alphas = [1e-1]\n",
    "#alphas = [1e-5, 1e-4, 1e-3, 1e-2, 1e-1, 5e-1, 1, 2, 10, 100]\n",
    "#alphas = [1e-5, 1e-4, 1e-3, 1e-2, 1e-1, 5e-1, 1, 2, 10, 100]\n",
    "%time coeffs_alpha, se_alpha, opt_alpha_idx = kruskal_complex_alphas(prj, Giwn, alphas, rank)"
   ]
  },
  {
   "cell_type": "code",
   "execution_count": 46,
   "metadata": {},
   "outputs": [
    {
     "name": "stdout",
     "output_type": "stream",
     "text": [
      "[1.28028244e-06]\n"
     ]
    }
   ],
   "source": [
    "print(se_alpha)"
   ]
  },
  {
   "cell_type": "code",
   "execution_count": 47,
   "metadata": {},
   "outputs": [
    {
     "data": {
      "image/png": "[encoded data removed]",
      "text/plain": [
       "<Figure size 432x288 with 1 Axes>"
      ]
     },
     "metadata": {},
     "output_type": "display_data"
    }
   ],
   "source": [
    "plt.plot(alphas, se_alpha, marker='o')\n",
    "plt.xlabel(r'$\\alpha$')\n",
    "plt.ylabel('Squared errors')\n",
    "plt.xscale('log')\n",
    "plt.yscale('log')\n",
    "#plt.legend(loc='best')"
   ]
  },
  {
   "cell_type": "code",
   "execution_count": 48,
   "metadata": {},
   "outputs": [
    {
     "name": "stdout",
     "output_type": "stream",
     "text": [
      "best value of alpha 0.1\n"
     ]
    }
   ],
   "source": [
    "# OK, let us alpha = 0.1.\n",
    "# An optimal value can be estimated by the elbow method (refer to the SpM paper by J. Otsuki et al.)\n",
    "#alpha_best = 0.1\n",
    "#opt_alpha_idx = 0\n",
    "alpha_best = alphas[opt_alpha_idx]\n",
    "print(\"best value of alpha\", alpha_best)\n",
    "#alpha_best = 0.1\n",
    "\n",
    "coeffs = coeffs_alpha[opt_alpha_idx].reshape((3, 2, 2, Nl, Nl))\n",
    "#print(coeffs.shape)"
   ]
  },
  {
   "cell_type": "code",
   "execution_count": 49,
   "metadata": {},
   "outputs": [
    {
     "name": "stdout",
     "output_type": "stream",
     "text": [
      "(3600,)\n",
      "0.006626422508635217\n",
      "False\n"
     ]
    }
   ],
   "source": [
    "# prj: [(n_sp, 3, 2, 2, Nl), (n_sp, 3, 2, 2, Nl)]\n",
    "def compute_Giwn(prj, coeff):\n",
    "    niw = prj[0].shape[0]\n",
    "    #print(prj[0].shape)\n",
    "    prj_mat = numpy.einsum('nrl,nrm->nrlm', prj[0], prj[1]).reshape((niw, 3 * 2 * 2 * Nl * Nl))\n",
    "    return prj_mat@coeffs.reshape((3 * 2 * 2 * Nl * Nl))\n",
    "\n",
    "Giwn_check = compute_Giwn(prj_check, coeffs)\n",
    "print(Giwn_check.shape)\n",
    "Giwn_check_ref = numpy.array([_G2_conn_ph(U, beta, n1n2[0], n1n2[1], boson_freq) for n1n2 in n1n2_check])\n",
    "\n",
    "diff = numpy.amax(numpy.abs(Giwn_check - Giwn_check_ref))\n",
    "print(diff)\n",
    "print(diff < 1e-3)"
   ]
  },
  {
   "cell_type": "code",
   "execution_count": 50,
   "metadata": {},
   "outputs": [
    {
     "name": "stdout",
     "output_type": "stream",
     "text": [
      "[-0.00174977  0.00034258  0.00115282 ... -0.0005132  -0.0004395\n",
      " -0.00139515]\n"
     ]
    },
    {
     "data": {
      "image/png": "[encoded data removed]",
      "text/plain": [
       "<Figure size 432x288 with 1 Axes>"
      ]
     },
     "metadata": {},
     "output_type": "display_data"
    }
   ],
   "source": [
    "Giwn_reconst = compute_Giwn(prj, coeffs)\n",
    "plt.plot(Giwn_reconst.real, c='r')\n",
    "plt.plot(Giwn.real)\n",
    "print(Giwn.real)"
   ]
  },
  {
   "cell_type": "code",
   "execution_count": 51,
   "metadata": {},
   "outputs": [
    {
     "name": "stdout",
     "output_type": "stream",
     "text": [
      "0.07012537833753249\n"
     ]
    },
    {
     "data": {
      "image/png": "[encoded data removed]",
      "text/plain": [
       "<Figure size 432x288 with 2 Axes>"
      ]
     },
     "metadata": {},
     "output_type": "display_data"
    }
   ],
   "source": [
    "import matplotlib.pylab as plt\n",
    "import matplotlib.cm as cm\n",
    "from mpl_toolkits.mplot3d import Axes3D\n",
    "\n",
    "%matplotlib inline\n",
    "\n",
    "N = 100\n",
    "N_zoom = 30\n",
    "#x = numpy.linspace(-N, N, 2*N+1)\n",
    "x = numpy.arange(-N, N+1)\n",
    "G2_conn_ph = numpy.zeros((2 * N + 1,2 * N + 1), dtype=float)\n",
    "\n",
    "for i in range(2 * N + 1):\n",
    "    for j in range(2 * N + 1):\n",
    "        n = x[i]\n",
    "        np = x[j]\n",
    "        G2_conn_ph[i, j] = _G2_conn_ph(U, beta, n, np, boson_freq)\n",
    "\n",
    "vrange = numpy.amax(numpy.abs(G2_conn_ph))\n",
    "plt.imshow(G2_conn_ph.real.T[N - N_zoom: N + N_zoom, N - N_zoom: N + N_zoom],\n",
    "           origin=\"lower\", extent=(-N_zoom, N_zoom, -N_zoom, N_zoom), \n",
    "           cmap=cm.bwr, vmin=-vrange/ 2, vmax=vrange / 2\n",
    "          )\n",
    "plt.colorbar()\n",
    "print (vrange)\n",
    "\n",
    "#plt.legend(loc='best',shadow=True,frameon=False)"
   ]
  },
  {
   "cell_type": "code",
   "execution_count": 52,
   "metadata": {},
   "outputs": [
    {
     "data": {
      "text/plain": [
       "<matplotlib.colorbar.Colorbar at 0x11d6c42e8>"
      ]
     },
     "execution_count": 52,
     "metadata": {},
     "output_type": "execute_result"
    },
    {
     "data": {
      "image/png": "[encoded data removed]",
      "text/plain": [
       "<Figure size 432x288 with 2 Axes>"
      ]
     },
     "metadata": {},
     "output_type": "display_data"
    }
   ],
   "source": [
    "n1n2_check_2d = numpy.array([(x[i], x[j]) for i in range(2 * N + 1) for j in range(2 * N + 1)])\n",
    "prj_check_2d = construct_prj(n1n2_check_2d)\n",
    "\n",
    "Giwn_check = compute_Giwn(prj_check_2d, coeffs)\n",
    "Giwn_check = Giwn_check.reshape((2 * N + 1, 2 * N + 1))\n",
    "vrange = numpy.amax(numpy.abs(Giwn_check))\n",
    "plt.imshow(Giwn_check.real.T[N - N_zoom: N + N_zoom, N - N_zoom: N + N_zoom],\n",
    "           origin=\"lower\", extent=(-N_zoom, N_zoom, -N_zoom, N_zoom), \n",
    "           cmap=cm.bwr, vmin=-vrange/ 2, vmax=vrange / 2\n",
    "          )\n",
    "plt.colorbar()"
   ]
  },
  {
   "cell_type": "code",
   "execution_count": null,
   "metadata": {},
   "outputs": [],
   "source": [
    "title_size = 20\n",
    "vert_range = 1.\n",
    "scale_factor = 100\n",
    "\n",
    "fig = plt.figure(figsize = (6 * fig_width, 6 * fig_height), frameon=False)\n",
    "\n",
    "ax = fig.add_subplot(2, 2, 1)\n",
    "nu_value = 0\n",
    "ax.plot(scale_factor * Giwn_check.real.reshape((2*N + 1, 2*N + 1))[:, N + nu_value], \n",
    "        label=\"interpolation\", ls='--', marker='x')\n",
    "ax.plot(scale_factor * G2_conn_ph.real.T[:, N + nu_value], label=\"exact\", lw=2)\n",
    "ax.set_ylim([-7, 2])\n",
    "ax.legend()\n",
    "plt.title(r\"$\\nu=$\" + str(nu_value), fontsize=title_size)\n",
    "\n",
    "ax = fig.add_subplot(2, 2, 2)\n",
    "nu_value = -10\n",
    "ax.plot(scale_factor * Giwn_check.real.reshape((2*N + 1, 2*N + 1))[:, N + nu_value], \n",
    "        label=\"interpolation\", ls='--', marker='x')\n",
    "ax.plot(scale_factor * G2_conn_ph.real.T[:, N + nu_value], label=\"exact\", lw=2)\n",
    "ax.set_ylim([-7, 2])\n",
    "plt.title(r\"$\\nu=$\" + str(nu_value), fontsize=title_size)\n",
    "\n",
    "ax = fig.add_subplot(2, 2, 3)\n",
    "nu_value = -5\n",
    "ax.plot(scale_factor * Giwn_check.real.reshape((2*N + 1, 2*N + 1))[:, N + nu_value], \n",
    "        label=\"interpolation\", ls='--', marker='x')\n",
    "ax.plot(scale_factor * G2_conn_ph.real.T[:, N + nu_value], label=\"exact\", lw=2)\n",
    "ax.set_ylim([-7, 2])\n",
    "plt.title(r\"$\\nu=$\" + str(nu_value), fontsize=title_size)\n",
    "\n",
    "ax = fig.add_subplot(2, 2, 4)\n",
    "nu_value = 10\n",
    "ax.plot(scale_factor * Giwn_check.real.reshape((2*N + 1, 2*N + 1))[:, N + nu_value], \n",
    "        label=\"interpolation\", ls='--', marker='x')\n",
    "ax.plot(scale_factor * G2_conn_ph.real.T[:, N + nu_value], label=\"exact\", lw=2)\n",
    "ax.set_ylim([-7, 2])\n",
    "plt.title(r\"$\\nu=$\" + str(nu_value), fontsize=title_size)\n",
    "\n",
    "plt.tight_layout()\n",
    "plt.savefig(\"shapes_comp_wide.pdf\")"
   ]
  },
  {
   "cell_type": "code",
   "execution_count": null,
   "metadata": {},
   "outputs": [],
   "source": [
    "title_size = 20\n",
    "vert_range = 1.\n",
    "scale_factor = 100\n",
    "\n",
    "fig = plt.figure(figsize = (6 * fig_width, 6 * fig_height), frameon=False)\n",
    "\n",
    "ax = fig.add_subplot(2, 2, 1)\n",
    "nu_value = 0\n",
    "ax.plot(scale_factor * Giwn_check.real.reshape((2*N + 1, 2*N + 1))[N - N_zoom: N + N_zoom, N + nu_value], \n",
    "        label=\"interpolation\", ls='--', marker='x')\n",
    "ax.plot(scale_factor * G2_conn_ph.real.T[N - N_zoom: N + N_zoom, N + nu_value], label=\"exact\", lw=2)\n",
    "ax.set_ylim([-7, 2])\n",
    "ax.legend()\n",
    "plt.title(r\"$\\nu=$\" + str(nu_value), fontsize=title_size)\n",
    "\n",
    "ax = fig.add_subplot(2, 2, 2)\n",
    "nu_value = -10\n",
    "ax.plot(scale_factor * Giwn_check.real.reshape((2*N + 1, 2*N + 1))[N - N_zoom: N + N_zoom, N + nu_value], \n",
    "        label=\"interpolation\", ls='--', marker='x')\n",
    "ax.plot(scale_factor * G2_conn_ph.real.T[N - N_zoom: N + N_zoom, N + nu_value], label=\"exact\", lw=2)\n",
    "ax.set_ylim([-7, 2])\n",
    "plt.title(r\"$\\nu=$\" + str(nu_value), fontsize=title_size)\n",
    "\n",
    "ax = fig.add_subplot(2, 2, 3)\n",
    "nu_value = -5\n",
    "ax.plot(scale_factor * Giwn_check.real.reshape((2*N + 1, 2*N + 1))[N - N_zoom: N + N_zoom, N + nu_value], \n",
    "        label=\"interpolation\", ls='--', marker='x')\n",
    "ax.plot(scale_factor * G2_conn_ph.real.T[N - N_zoom: N + N_zoom, N + nu_value], label=\"exact\", lw=2)\n",
    "ax.set_ylim([-7, 2])\n",
    "plt.title(r\"$\\nu=$\" + str(nu_value), fontsize=title_size)\n",
    "\n",
    "ax = fig.add_subplot(2, 2, 4)\n",
    "nu_value = 10\n",
    "ax.plot(scale_factor * Giwn_check.real.reshape((2*N + 1, 2*N + 1))[N - N_zoom: N + N_zoom, N + nu_value], \n",
    "        label=\"interpolation\", ls='--', marker='x')\n",
    "ax.plot(scale_factor * G2_conn_ph.real.T[N - N_zoom: N + N_zoom, N + nu_value], label=\"exact\", lw=2)\n",
    "ax.set_ylim([-7, 2])\n",
    "plt.title(r\"$\\nu=$\" + str(nu_value), fontsize=title_size)\n",
    "\n",
    "plt.tight_layout()\n",
    "plt.savefig(\"shapes_comp_zoom.pdf\")"
   ]
  },
  {
   "cell_type": "code",
   "execution_count": null,
   "metadata": {},
   "outputs": [],
   "source": []
  }
 ],
 "metadata": {
  "anaconda-cloud": {},
  "kernelspec": {
   "display_name": "Python 3",
   "language": "python",
   "name": "python3"
  },
  "language_info": {
   "codemirror_mode": {
    "name": "ipython",
    "version": 3
   },
   "file_extension": ".py",
   "mimetype": "text/x-python",
   "name": "python",
   "nbconvert_exporter": "python",
   "pygments_lexer": "ipython3",
   "version": "3.6.5"
  },
  "toc": {
   "colors": {
    "hover_highlight": "#DAA520",
    "navigate_num": "#000000",
    "navigate_text": "#333333",
    "running_highlight": "#FF0000",
    "selected_highlight": "#FFD700",
    "sidebar_border": "#EEEEEE",
    "wrapper_background": "#FFFFFF"
   },
   "moveMenuLeft": true,
   "nav_menu": {
    "height": "11.8333px",
    "width": "251.833px"
   },
   "navigate_menu": true,
   "number_sections": true,
   "sideBar": true,
   "threshold": 4,
   "toc_cell": false,
   "toc_section_display": "block",
   "toc_window_display": false,
   "widenNotebook": false
  }
 },
 "nbformat": 4,
 "nbformat_minor": 2
}
