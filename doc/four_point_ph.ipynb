{
 "cells": [
  {
   "cell_type": "code",
   "execution_count": 2,
   "metadata": {},
   "outputs": [],
   "source": [
    "from irbasis_util.four_point_ph_view import *\n",
    "from irbasis_util.internal import *\n",
    "from irbasis_util.regression import *\n",
    "\n",
    "# Implementation of Rohringer et al. () 2012)\n",
    "def _delta(i, j):\n",
    "    if i==j:\n",
    "        return 1\n",
    "    else:\n",
    "        return 0\n",
    "\n",
    "def _F_ph(U, beta, n, np, m):\n",
    "    nu = (2 * n + 1) * numpy.pi / beta\n",
    "    nu_p = (2 * np + 1) * numpy.pi / beta\n",
    "    omega = 2 * m * numpy.pi / beta\n",
    "    r1 = nu + omega\n",
    "    r2 = nu_p + omega\n",
    "    tmp = 1. / (nu * r1 * r2 * nu_p)\n",
    "    Fuu = (-0.25 * beta * (U**2) * (_delta(n,np) - _delta(m,0)) *\n",
    "               (1 + 0.25 * (U / nu)**2) * (1 + 0.25 * (U / r2)**2))\n",
    "    t1 = 0.125 * (U**3) * (nu**2 + r1**2 + r2**2 + nu_p**2) * tmp\n",
    "    t2 = (3.0 / 16.0) * (U**5) * tmp\n",
    "    t3 = (beta * 0.25 * (U**2) *\n",
    "              (1 / (1 + numpy.exp(0.5 * beta * U)))\n",
    "              * (2 * _delta(nu, -nu_p - m) + _delta(m, 0)) *\n",
    "              (1 + 0.25 * (U / r1)**2) * (1 + 0.25 * (U / r2)**2))\n",
    "    t4 = (-beta * 0.25 * (U**2) *\n",
    "              (1 / (1 + numpy.exp(-0.5 * beta * U)))\n",
    "              * (2 * _delta(nu, nu_p) + _delta(m, 0)) *\n",
    "              (1 + 0.25 * (U / nu)**2) * (1 + 0.25 * (U / r2)**2))\n",
    "    Fud = -U + t1 + t2 + t3 + t4\n",
    "    return Fuu, Fud\n",
    "\n",
    "def _G2_conn_ph(U, beta, n, np, m):\n",
    "    Fuu, Fud = _F_ph(U, beta, n, np, m)\n",
    "    nu = (2 * n + 1) * numpy.pi / beta\n",
    "    nu_p = (2 * np + 1) * numpy.pi / beta\n",
    "    omega = 2 * m * numpy.pi / beta\n",
    "    hU = 0.5 * U\n",
    "    leggs_1 = nu * (nu + omega) * nu_p * (nu_p + omega)\n",
    "    leggs_2 = ((hU**2 + nu**2) * (hU**2 + nu_p**2) *\n",
    "                   (hU**2 + (nu + omega)**2) * (hU**2 + (nu_p + omega)**2))\n",
    "    leggs = leggs_1 / leggs_2\n",
    "    return leggs * Fuu + leggs * Fud\n",
    "\n",
    "def _compute_Giw(beta, pole, s1, s2, r, n1, n2, boson_freq):\n",
    "    iwn_f = lambda n : 1J * (2*n + 1) * numpy.pi / beta\n",
    "    iwn_b = lambda n : 1J * (2 * n) * numpy.pi / beta\n",
    "    if r == 0:\n",
    "        return 1 / ((iwn_f(n1) + s1 * iwn_b(boson_freq) - pole) * (iwn_f(n2) + s2 * iwn_b(boson_freq) - pole))\n",
    "    elif r == 1:\n",
    "        n1_tmp = n1 + n2 * (-1) ** (s1+1)\n",
    "        return 1 / ((iwn_b(n1_tmp) + s1 * iwn_b(boson_freq) - pole) * (iwn_f(n2) + s2 * iwn_b(boson_freq) - pole))\n",
    "    elif r == 2:\n",
    "        n_tmp = n2 + n1 * (-1)**(s1+1)\n",
    "        return 1 / ((iwn_b(n_tmp) + s1 * iwn_b(boson_freq) - pole) * (iwn_f(n1) + s2 * iwn_b(boson_freq) - pole))"
   ]
  },
  {
   "cell_type": "code",
   "execution_count": 34,
   "metadata": {},
   "outputs": [],
   "source": [
    "# Regression with multiple values of alpha\n",
    "def ridge_complex_alphas(A, y, alphas):\n",
    "    coeffs_alpha = []\n",
    "    squared_errors_alpha = []\n",
    "    for alpha in alphas:\n",
    "        coeffs = ridge_complex(A, y, alpha)\n",
    "        coeffs_alpha.append(coeffs)\n",
    "        squared_errors_alpha.append(numpy.linalg.norm(y-numpy.dot(A, coeffs))**2)\n",
    "    return coeffs_alpha, squared_errors_alpha"
   ]
  },
  {
   "cell_type": "code",
   "execution_count": 38,
   "metadata": {},
   "outputs": [],
   "source": [
    "boson_freq = 10\n",
    "Lambda = 10.0\n",
    "beta = 5.0\n",
    "U = 2.0\n",
    "wmax = Lambda / beta\n",
    "\n",
    "numpy.random.seed(100)\n",
    "noise = 0.0001"
   ]
  },
  {
   "cell_type": "code",
   "execution_count": 39,
   "metadata": {},
   "outputs": [
    {
     "name": "stdout",
     "output_type": "stream",
     "text": [
      "adding noise\n"
     ]
    }
   ],
   "source": [
    "#alpha = 1e-15\n",
    "augmented = True\n",
    "phb = FourPointPHView(boson_freq, Lambda, beta, 1e-5, augmented)\n",
    "Nl = phb.Nl\n",
    "whichl = Nl - 1\n",
    "# build the sampling frequency structure\n",
    "sp = phb.sampling_points_matsubara(whichl)\n",
    "S = phb.normalized_S()\n",
    "n_sp = len(sp)\n",
    "prj = numpy.array(phb.projector_to_matsubara_vec(sp))[:, :, :, :, :, :] * S[None, :]\n",
    "prj_mat = prj[:, :, :, :, :, :].reshape((n_sp, 3 * 2 * 2 * Nl * Nl))\n",
    "# Build the check frequency structure\n",
    "n1n2_check = []\n",
    "niw = 100\n",
    "niw_hf = 10000\n",
    "wide_niw_check = numpy.hstack((range(-niw_hf, -niw, 500), range(-niw, niw, 10), range(niw, niw_hf, 500)))\n",
    "for i, j in product(wide_niw_check, repeat=2):\n",
    "    n1n2_check.append((i, j))\n",
    "prj_check = numpy.array(phb.projector_to_matsubara_vec(n1n2_check))[:, :, :, :, :, :] * S[None, :]\n",
    "\n",
    "Giwn = numpy.array([_G2_conn_ph(U, beta, n1n2[0], n1n2[1], boson_freq) for n1n2 in sp])\n",
    "print (\"adding noise\")\n",
    "noise_iwn = numpy.random.normal(loc=0.0, scale=noise, size=(len(sp)))\n",
    "Giwn = noise_iwn + Giwn"
   ]
  },
  {
   "cell_type": "code",
   "execution_count": 43,
   "metadata": {},
   "outputs": [
    {
     "data": {
      "image/png": "[encoded data removed]",
      "text/plain": [
       "<Figure size 432x288 with 1 Axes>"
      ]
     },
     "metadata": {},
     "output_type": "display_data"
    }
   ],
   "source": [
    "alphas = [1e-5, 1e-4, 1e-3, 1e-2, 1e-1, 1, 10, 100]\n",
    "coeffs_alpha, se_alpha = ridge_complex_alphas(prj_mat, Giwn, alphas)\n",
    "plt.plot(alphas, se_alpha, marker='o')\n",
    "plt.xlabel(r'$\\alpha$')\n",
    "plt.ylabel('Squared errors')\n",
    "plt.xscale('log')\n",
    "plt.yscale('log')\n",
    "#plt.legend(loc='best')"
   ]
  },
  {
   "cell_type": "code",
   "execution_count": 48,
   "metadata": {},
   "outputs": [],
   "source": [
    "# OK, let us alpha = 0.1.\n",
    "# An optimal value can be estimated by the elbow method (refer to the SpM paper by J. Otsuki et al.)\n",
    "alpha_best = 0.1\n",
    "coeffs = ridge_complex(prj_mat, Giwn, alpha_best).reshape((3, 2, 2, Nl, Nl))"
   ]
  },
  {
   "cell_type": "code",
   "execution_count": 49,
   "metadata": {},
   "outputs": [
    {
     "name": "stdout",
     "output_type": "stream",
     "text": [
      "0.0002321895293677656\n",
      "True\n"
     ]
    }
   ],
   "source": [
    "Giwn_check = numpy.dot(prj_check.reshape((len(n1n2_check), 3 * 2 * 2 * Nl * Nl)),\n",
    "                           (coeffs).reshape((3 * 2 * 2 * Nl * Nl)))\n",
    "Giwn_check_ref = numpy.array([_G2_conn_ph(U, beta, n1n2[0], n1n2[1], boson_freq) for n1n2 in n1n2_check])\n",
    "\n",
    "diff = numpy.amax(numpy.abs(Giwn_check - Giwn_check_ref))\n",
    "print(numpy.amax(numpy.abs(Giwn_check - Giwn_check_ref)))\n",
    "print(diff < 1e-3)"
   ]
  },
  {
   "cell_type": "code",
   "execution_count": 50,
   "metadata": {},
   "outputs": [
    {
     "data": {
      "text/plain": [
       "<matplotlib.colorbar.Colorbar at 0x10d63fc88>"
      ]
     },
     "execution_count": 50,
     "metadata": {},
     "output_type": "execute_result"
    },
    {
     "data": {
      "image/png": "[encoded data removed]",
      "text/plain": [
       "<Figure size 432x288 with 2 Axes>"
      ]
     },
     "metadata": {},
     "output_type": "display_data"
    }
   ],
   "source": [
    "import matplotlib.pylab as plt\n",
    "import matplotlib.cm as cm\n",
    "from mpl_toolkits.mplot3d import Axes3D\n",
    "\n",
    "%matplotlib inline\n",
    "\n",
    "N = 30\n",
    "#x = numpy.linspace(-N, N, 2*N+1)\n",
    "x = numpy.arange(-N, N+1)\n",
    "z = numpy.zeros((2*N+1, 2*N+1), dtype=float)\n",
    "\n",
    "for i in range(2*N+1):\n",
    "    for j in range(2*N+1):\n",
    "        n = x[i]\n",
    "        np = x[j]\n",
    "        G2_conn_ph = _G2_conn_ph(U, beta, n, np, boson_freq)\n",
    "        z[i,j] = G2_conn_ph.real\n",
    "\n",
    "vrange = numpy.amax(numpy.abs(z))\n",
    "plt.imshow(z.T, origin=\"lower\", extent=(numpy.amin(x), numpy.amax(x), numpy.amin(x), numpy.amax(x)), cmap=cm.bwr, vmin=-vrange, vmax=vrange)\n",
    "plt.colorbar()\n",
    "\n",
    "#plt.legend(loc='best',shadow=True,frameon=False)"
   ]
  },
  {
   "cell_type": "code",
   "execution_count": 51,
   "metadata": {},
   "outputs": [
    {
     "data": {
      "text/plain": [
       "<matplotlib.colorbar.Colorbar at 0x10d7fa208>"
      ]
     },
     "execution_count": 51,
     "metadata": {},
     "output_type": "execute_result"
    },
    {
     "data": {
      "image/png": "[encoded data removed]",
      "text/plain": [
       "<Figure size 432x288 with 2 Axes>"
      ]
     },
     "metadata": {},
     "output_type": "display_data"
    }
   ],
   "source": [
    "n1n2_check_2d = numpy.array([(x[i],x[j]) for i in range(2*N+1) for j in range(2*N+1)])\n",
    "prj_check_2d = numpy.array(phb.projector_to_matsubara_vec(n1n2_check_2d))[:, :, :, :, :, :] * S[None, :]\n",
    "Giwn_check = numpy.dot(prj_check_2d.reshape((len(n1n2_check_2d), 3 * 2 * 2 * Nl * Nl)),\n",
    "                           (coeffs).reshape((3 * 2 * 2 * Nl * Nl)))\n",
    "z_check = Giwn_check.real.reshape((2*N+1, 2*N+1))\n",
    "vrange = numpy.amax(numpy.abs(z_check))\n",
    "plt.imshow(z_check.T, origin=\"lower\", extent=(numpy.amin(x), numpy.amax(x), numpy.amin(x), numpy.amax(x)), cmap=cm.bwr, vmin=-vrange, vmax=vrange)\n",
    "plt.colorbar()"
   ]
  }
 ],
 "metadata": {
  "anaconda-cloud": {},
  "kernelspec": {
   "display_name": "Python 3",
   "language": "python",
   "name": "python3"
  },
  "language_info": {
   "codemirror_mode": {
    "name": "ipython",
    "version": 3
   },
   "file_extension": ".py",
   "mimetype": "text/x-python",
   "name": "python",
   "nbconvert_exporter": "python",
   "pygments_lexer": "ipython3",
   "version": "3.6.5"
  }
 },
 "nbformat": 4,
 "nbformat_minor": 2
}
