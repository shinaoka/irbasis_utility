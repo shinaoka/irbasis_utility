{
 "cells": [
  {
   "cell_type": "code",
   "execution_count": 1,
   "metadata": {},
   "outputs": [
    {
     "data": {
      "image/png": "[encoded data removed]",
      "text/latex": [
       "$$\\frac{3 U^{5}}{16 \\nu {\\nu^\\prime} \\left(\\nu + {\\omega}\\right) \\left({\\nu^\\prime} + {\\omega}\\right)} + \\frac{U^{3} \\left(\\nu^{2} + {\\nu^\\prime}^{2} + \\left(\\nu + {\\omega}\\right)^{2} + \\left({\\nu^\\prime} + {\\omega}\\right)^{2}\\right)}{8 \\nu {\\nu^\\prime} \\left(\\nu + {\\omega}\\right) \\left({\\nu^\\prime} + {\\omega}\\right)} + \\frac{U^{2} {\\beta}}{4 \\left(e^{\\frac{U {\\beta}}{2}} + 1\\right)} \\left(\\frac{U^{2}}{4 \\left(\\nu + {\\omega}\\right)^{2}} + 1\\right) \\left(\\frac{U^{2}}{4 \\left({\\nu^\\prime} + {\\omega}\\right)^{2}} + 1\\right) \\left(\\delta_{0 {\\omega}} + 2 \\delta_{\\nu, - {\\nu^\\prime} - {\\omega}}\\right) - \\frac{U^{2} {\\beta}}{4 \\left(1 + e^{- \\frac{U {\\beta}}{2}}\\right)} \\left(\\frac{U^{2}}{4 \\nu^{2}} + 1\\right) \\left(\\frac{U^{2}}{4 \\left({\\nu^\\prime} + {\\omega}\\right)^{2}} + 1\\right) \\left(\\delta_{0 {\\omega}} + 2 \\delta_{\\nu {\\nu^\\prime}}\\right) - U$$"
      ],
      "text/plain": [
       "                                                                              \n",
       "                                                                              \n",
       "                                                                              \n",
       "                                 5                                  3 ⎛   2   \n",
       "                              3⋅U                                  U ⋅⎝\\nu  + \n",
       "──────────────────────────────────────────────────────────────── + ───────────\n",
       "16⋅\\nu⋅{\\nu__\\prime}⋅(\\nu + {\\omega})⋅({\\nu__\\prime} + {\\omega})         8⋅\\nu\n",
       "                                                                              \n",
       "                                                                              \n",
       "                                                                              \n",
       "\n",
       "                                                                              \n",
       "                                                                     2        \n",
       "                                                                    U ⋅{\\beta}\n",
       "             2                   2                             2⎞             \n",
       "{\\nu__\\prime}  + (\\nu + {\\omega})  + ({\\nu__\\prime} + {\\omega}) ⎠             \n",
       "───────────────────────────────────────────────────────────────── + ──────────\n",
       "⋅{\\nu__\\prime}⋅(\\nu + {\\omega})⋅({\\nu__\\prime} + {\\omega})                    \n",
       "                                                                              \n",
       "                                                                              \n",
       "                                                                              \n",
       "\n",
       " ⎛          2            ⎞ ⎛               2                 ⎞                \n",
       " ⎜         U             ⎟ ⎜              U                  ⎟                \n",
       "⋅⎜─────────────────── + 1⎟⋅⎜───────────────────────────── + 1⎟⋅⎛δ           + \n",
       " ⎜                  2    ⎟ ⎜                            2    ⎟ ⎝ 0,{\\omega}   \n",
       " ⎝4⋅(\\nu + {\\omega})     ⎠ ⎝4⋅({\\nu__\\prime} + {\\omega})     ⎠                \n",
       "──────────────────────────────────────────────────────────────────────────────\n",
       "                                            ⎛ U⋅{\\beta}    ⎞                  \n",
       "                                            ⎜ ─────────    ⎟                  \n",
       "                                            ⎜     2        ⎟                  \n",
       "                                          4⋅⎝ℯ          + 1⎠                  \n",
       "\n",
       "                                               ⎛   2      ⎞ ⎛               2 \n",
       "                                     2         ⎜  U       ⎟ ⎜              U  \n",
       "2⋅δ                             ⎞   U ⋅{\\beta}⋅⎜────── + 1⎟⋅⎜─────────────────\n",
       "   \\nu,-{\\nu__\\prime} - {\\omega}⎠              ⎜     2    ⎟ ⎜                 \n",
       "                                               ⎝4⋅\\nu     ⎠ ⎝4⋅({\\nu__\\prime} \n",
       "───────────────────────────────── - ──────────────────────────────────────────\n",
       "                                                                            ⎛ \n",
       "                                                                            ⎜ \n",
       "                                                                            ⎜ \n",
       "                                                                          4⋅⎝1\n",
       "\n",
       "                ⎞                                         \n",
       "                ⎟                                         \n",
       "──────────── + 1⎟⋅⎛δ           + 2⋅δ                 ⎞    \n",
       "           2    ⎟ ⎝ 0,{\\omega}      \\nu,{\\nu__\\prime}⎠    \n",
       "+ {\\omega})     ⎠                                         \n",
       "────────────────────────────────────────────────────── - U\n",
       "    -U⋅{\\beta} ⎞                                          \n",
       "    ───────────⎟                                          \n",
       "         2     ⎟                                          \n",
       " + ℯ           ⎠                                          "
      ]
     },
     "execution_count": 1,
     "metadata": {},
     "output_type": "execute_result"
    }
   ],
   "source": [
    "import sympy, numpy\n",
    "from sympy.abc import x, theta\n",
    "from sympy import init_printing\n",
    "\n",
    "init_printing()\n",
    "\n",
    "s_nu = sympy.Symbol(\"\\\\nu\")\n",
    "s_nu_p = sympy.Symbol(\"{\\\\nu^\\\\prime}\")\n",
    "s_omega = sympy.Symbol(\"{\\\\omega}\")\n",
    "s_U = sympy.Symbol(\"U\")\n",
    "s_beta = sympy.Symbol(\"{\\\\beta}\")\n",
    "\n",
    "s1 = s_nu + s_omega\n",
    "s2 = s_nu_p + s_omega\n",
    "s3 = s_nu * s_nu_p * s1 * s2\n",
    "\n",
    "# Implementation of Eq.(31)\n",
    "Fud_1 = -s_U + sympy.Rational(1,8) * (s_U**3) * (s_nu**2 + s1**2 + s2**2 + s_nu_p**2)/s3\n",
    "Fud_2 = sympy.Rational(3,16)* (s_U**5)/s3 \n",
    "Fud_3 = s_beta * ((s_U**2)/4) * (1/(1+sympy.exp(s_beta*s_U/2))) * (2*sympy.KroneckerDelta(s_nu, -s2) + sympy.KroneckerDelta(s_omega,0)) * (1 + s_U**2/(4*s1**2)) * (1 + s_U**2/(4*s2**2))\n",
    "Fud_4 = -s_beta * ((s_U**2)/4) * (1/(1+sympy.exp(-s_beta*s_U/2))) * (2*sympy.KroneckerDelta(s_nu, s_nu_p) + sympy.KroneckerDelta(s_omega,0)) * (1 + s_U**2/(4*s_nu**2)) * (1 + s_U**2/(4*s2**2))\n",
    "\n",
    "Fud = Fud_1 + Fud_2 + Fud_3 + Fud_4\n",
    "Fud"
   ]
  },
  {
   "cell_type": "code",
   "execution_count": 2,
   "metadata": {},
   "outputs": [],
   "source": [
    "beta = 5.0\n",
    "U = 2.0"
   ]
  },
  {
   "cell_type": "code",
   "execution_count": 3,
   "metadata": {},
   "outputs": [
    {
     "data": {
      "image/png": "[encoded data removed]",
      "text/latex": [
       "$$-15.0817625604903$$"
      ],
      "text/plain": [
       "-15.0817625604903"
      ]
     },
     "execution_count": 3,
     "metadata": {},
     "output_type": "execute_result"
    }
   ],
   "source": [
    "# Substitute \\nu = 1, \\nu^\\prime=1, \\omega=1 into the analytic expression of Eq.(31), where integers much be interpreted as\n",
    "# fermionic or bosonic Matsubara frequencies.\n",
    "n, n_p, m = 1, 1, 1\n",
    "Fud.subs([(s_nu, (2*n+1)*numpy.pi/beta), (s_nu_p,(2*n_p+1)*numpy.pi/beta), (s_omega,(2*m)*numpy.pi/beta), (s_U,2), (s_beta,5)]).evalf()"
   ]
  },
  {
   "cell_type": "code",
   "execution_count": 4,
   "metadata": {
    "scrolled": false
   },
   "outputs": [
    {
     "name": "stdout",
     "output_type": "stream",
     "text": [
      "(-7.056427666781439, -15.081762560490278)\n",
      "((0.10103064440229036+0j), (0.21593365115633148+0j))\n"
     ]
    }
   ],
   "source": [
    "import numpy\n",
    "import scipy\n",
    "import sys\n",
    "\n",
    "def delta(i, j):\n",
    "    if i==j:\n",
    "        return 1\n",
    "    else:\n",
    "        return 0\n",
    "\n",
    "# Numerical implementation of Eqs.(30) [Fuu] and (31) [Fud]\n",
    "def F_ph(n, np, m):\n",
    "    nu = (2*n+1)*numpy.pi/beta\n",
    "    nu_p = (2*np+1)*numpy.pi/beta\n",
    "    omega = 2*m*numpy.pi/beta\n",
    "    \n",
    "    r1 = nu+omega\n",
    "    r2 = nu_p+omega\n",
    "    tmp = 1/(nu * r1 * r2 * nu_p)\n",
    "    \n",
    "    Fuu = -0.25*beta*(U**2)*(delta(n,np)-delta(m,0))*(1+0.25*(U/nu)**2)*(1+0.25*(U/r2)**2)\n",
    "    \n",
    "    t1 = 0.125*(U**3)*(nu**2+r1**2+r2**2+nu_p**2)*tmp\n",
    "    t2 = (3.0/16.0) * (U**5) * tmp\n",
    "    t3 = beta * 0.25 * (U**2) * (1/(1+numpy.exp(0.5*beta*U))) * (2*delta(nu,-nu_p-m)+delta(m,0)) * (1+0.25*(U/r1)**2) * (1+0.25*(U/r2)**2)\n",
    "    t4 = - beta * 0.25 * (U**2) * (1/(1+numpy.exp(-0.5*beta*U))) * (2*delta(nu, nu_p)+delta(m,0)) * (1+0.25*(U/nu)**2) * (1+0.25*(U/r2)**2)\n",
    "    \n",
    "    Fud = -U + t1 + t2 + t3 + t4\n",
    "    \n",
    "    return Fuu, Fud\n",
    "\n",
    "# Single-particle Green's function: poles at omega = +/- U/2\n",
    "def G1(n):\n",
    "    iwn = 1J * (2*n+1)*numpy.pi/beta\n",
    "    \n",
    "    return 0.5/(iwn - U/2) + 0.5/(iwn + U/2)\n",
    "\n",
    "# The second term of the right hand side of Eq.(9)\n",
    "def G2_conn_ph(n, np, m):\n",
    "    Fuu, Fud = F_ph(n, np, m)\n",
    "    leggs = - G1(n) * G1(np) * G1(n + m) * G1(np + m)\n",
    "    return leggs*Fuu, leggs*Fud\n",
    "\n",
    "print(F_ph(1,1,1))\n",
    "print(G2_conn_ph(1,1,1))"
   ]
  },
  {
   "cell_type": "code",
   "execution_count": 5,
   "metadata": {},
   "outputs": [
    {
     "name": "stderr",
     "output_type": "stream",
     "text": [
      "No handles with labels found to put in legend.\n"
     ]
    },
    {
     "data": {
      "text/plain": [
       "<matplotlib.legend.Legend at 0x113419c18>"
      ]
     },
     "execution_count": 5,
     "metadata": {},
     "output_type": "execute_result"
    },
    {
     "data": {
      "image/png": "[encoded data removed]",
      "text/plain": [
       "<Figure size 432x288 with 2 Axes>"
      ]
     },
     "metadata": {},
     "output_type": "display_data"
    }
   ],
   "source": [
    "import matplotlib.pylab as plt\n",
    "import matplotlib.cm as cm\n",
    "from mpl_toolkits.mplot3d import Axes3D\n",
    "\n",
    "%matplotlib inline\n",
    "\n",
    "N = 30\n",
    "x = numpy.linspace(-N, N, 2*N+1)\n",
    "z = numpy.zeros((2*N+1, 2*N+1), dtype=float)\n",
    "m = 10\n",
    "\n",
    "for i in range(2*N+1):\n",
    "    for j in range(2*N+1):\n",
    "        n = x[i]\n",
    "        np = x[j]\n",
    "        G2_conn_uu_ph, G2_conn_ud_ph = G2_conn_ph(n, np, m)\n",
    "        # Eq. (17): density channel\n",
    "        z[i,j] = (G2_conn_uu_ph + G2_conn_ud_ph).real\n",
    "\n",
    "vrange = numpy.amax(numpy.abs(z))\n",
    "plt.imshow(z.T, origin=\"lower\", extent=(numpy.amin(x), numpy.amax(x), numpy.amin(x), numpy.amax(x)), cmap=cm.bwr, vmin=-vrange, vmax=vrange)\n",
    "plt.colorbar()\n",
    "\n",
    "plt.legend(loc='best',shadow=True,frameon=False)"
   ]
  }
 ],
 "metadata": {
  "anaconda-cloud": {},
  "kernelspec": {
   "display_name": "Python 3",
   "language": "python",
   "name": "python3"
  },
  "language_info": {
   "codemirror_mode": {
    "name": "ipython",
    "version": 3
   },
   "file_extension": ".py",
   "mimetype": "text/x-python",
   "name": "python",
   "nbconvert_exporter": "python",
   "pygments_lexer": "ipython3",
   "version": "3.6.5"
  }
 },
 "nbformat": 4,
 "nbformat_minor": 2
}
